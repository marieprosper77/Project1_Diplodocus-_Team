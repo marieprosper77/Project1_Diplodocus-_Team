{
 "cells": [
  {
   "cell_type": "code",
   "execution_count": null,
   "id": "9878a262",
   "metadata": {},
   "outputs": [],
   "source": [
    "import gmaps\n",
    "import json\n",
    "import requests\n",
    "import pandas as pd\n",
    "import numpy as np\n",
    "from citipy import citipy\n",
    "import matplotlib.pyplot as plt\n",
    "from scipy import stats\n",
    "from config import api_key\n",
    "from citipy import citipy"
   ]
  },
  {
   "cell_type": "code",
   "execution_count": null,
   "id": "09f73037",
   "metadata": {},
   "outputs": [],
   "source": [
    "abnb_data = pd.read_csv(\"Resources/airbnb_data.csv\")"
   ]
  },
  {
   "cell_type": "code",
   "execution_count": null,
   "id": "684f5e5c",
   "metadata": {},
   "outputs": [],
   "source": [
    "abnb2 = abnb_data.drop(['neighbourhood_group', 'id', 'host_id', 'host_name', 'calculated_host_listings_count', 'last_review'], axis=1)\n",
    "abnb2_df = abnb2.drop(abnb2[abnb2['room_type'] == 'Private room'].index)\n",
    "abnb2_df['city'] = abnb2_df['city'].replace({'Broward County':'Fort Lauderdale','Clark County':'Las Vegas','New York City':'New York','San Clara Country':'San Jose','San Mateo County':'San Mateo','Santa Cruz County':'Santa Cruz','Twin Cities MSA':'Twin Cities','Washington D.C.':'Washington'})\n",
    "abnb_df = abnb2_df.drop(abnb2_df[(abnb2_df['city'] == 'Hawaii') | (abnb2_df['city'] == 'Rhode Island') | (abnb2_df['city'] == 'Twin Cities')].index)\n",
    "\n",
    "abnb_df = abnb_df[['city', 'name', 'neighbourhood', 'latitude', 'longitude', 'room_type', 'price', 'minimum_nights', 'number_of_reviews', 'reviews_per_month', 'availability_365']]\n",
    "abnb_df.rename(columns={'city': 'City', 'name': 'Property Name', 'neighbourhood': 'Neighborhood', 'latitude': 'Latitude', 'longitude': 'Longitude', 'room_type': 'Room Type', 'price': 'Price', 'minimum_nights': 'Minimum Nights', 'number_of_reviews': 'Number of Reviews', 'reviews_per_month': 'Reviews per Month', 'availability_365': 'Availability (days per year)'}, inplace=True)\n",
    "\n",
    "abnb_df"
   ]
  },
  {
   "cell_type": "code",
   "execution_count": null,
   "id": "46d5ec2e",
   "metadata": {},
   "outputs": [],
   "source": [
    "\n",
    "Cities = []\n",
    "for city in abnb_df['City']:\n",
    "    if city not in Cities:\n",
    "        Cities.append(city)"
   ]
  },
  {
   "cell_type": "code",
   "execution_count": null,
   "id": "e54eb96e",
   "metadata": {},
   "outputs": [],
   "source": [
    "cities = [city.lower() for city in Cities]"
   ]
  },
  {
   "cell_type": "code",
   "execution_count": null,
   "id": "8fa7c798",
   "metadata": {},
   "outputs": [],
   "source": [
    "states = ['NC', 'TX', 'MA', 'FL', 'MA', 'IL', 'NV', 'OH', 'CO', 'NJ', 'CA', 'TN', 'LA', 'NY', 'CA', 'CA', 'OR', 'OR', 'CA', 'CA', 'CA', 'CA', 'CA', 'WA', 'DC']"
   ]
  },
  {
   "cell_type": "code",
   "execution_count": null,
   "id": "d38c5006",
   "metadata": {},
   "outputs": [],
   "source": [
    "loop_df = pd.DataFrame({\n",
    "    'city': cities,\n",
    "    'City': Cities,\n",
    "    'State': states\n",
    "})\n",
    "\n",
    "loop_df['Population'] = ''"
   ]
  },
  {
   "cell_type": "code",
   "execution_count": null,
   "id": "832fad9e",
   "metadata": {},
   "outputs": [],
   "source": [
    "for index, row in loop_df.iterrows():\n",
    "    city = row[\"city\"]\n",
    "    City = row[\"City\"]\n",
    "    state = row[\"State\"]\n",
    "    url = f'http://public.opendatasoft.com/api/records/1.0/search/?dataset=cities-and-towns-of-the-united-states%40public&q={city}&facet=name&facet=state&refine.name={City}&refine.state={state}'\n",
    "    response = requests.get(url).json()\n",
    "    print(f\"Searching population record for {city}\")\n",
    "    \n",
    "    try:\n",
    "        loop_df.loc[index, \"Population\"] = response['records'][0]['fields']['pop_2010']\n",
    "    \n",
    "        print(f\"{city}'s population: {response['records'][0]['fields']['pop_2010']}\")\n",
    "    \n",
    "        print('________________________________________________')\n",
    "    \n",
    "    except (KeyError, IndexError):\n",
    "        print(f\"Population for {city} not found... Continue scanning.\")\n",
    "        \n",
    "        print('________________________________________________')"
   ]
  },
  {
   "cell_type": "code",
   "execution_count": null,
   "id": "4165778c",
   "metadata": {},
   "outputs": [],
   "source": [
    "graphs_draft_df = abnb_df.groupby('City').mean().reset_index()\n",
    "graphs_draft_df['Population'] = loop_df['Population']\n",
    "graphs_draft_df['State'] = loop_df['State']\n",
    "graphs_df = graphs_draft_df[['City', 'State', 'Population', 'Latitude', 'Longitude', 'Price', 'Minimum Nights', 'Number of Reviews', 'Reviews per Month', 'Availability (days per year)']]\n",
    "graphs_df['Population'] = pd.to_numeric(graphs_df['Population'], errors='coerce')"
   ]
  },
  {
   "cell_type": "code",
   "execution_count": null,
   "id": "93ac906c",
   "metadata": {},
   "outputs": [],
   "source": [
    "\n",
    "sorted_by_pop = graphs_df.sort_values(by='Population', ascending=False)\n",
    "\n",
    "pop_city = sorted_by_pop[['City', 'Population']]\n",
    "pop_city = pop_city.set_index('City')\n",
    "\n",
    "pop_city.plot(kind=\"bar\", figsize=(10,7))\n",
    "\n",
    "# Set a title for the chart\n",
    "plt.title('Population by City')\n",
    "plt.xlabel(\"Cities\")\n",
    "plt.ylabel(\"Population (in millions)\")\n",
    "plt.tight_layout()\n",
    "plt.show()"
   ]
  },
  {
   "cell_type": "code",
   "execution_count": null,
   "id": "4589c976",
   "metadata": {},
   "outputs": [],
   "source": [
    "#abnb_df.groupby('City').count()\n",
    "sorted_by_pop"
   ]
  }
 ],
 "metadata": {
  "kernelspec": {
   "display_name": "Python 3",
   "language": "python",
   "name": "python3"
  },
  "language_info": {
   "codemirror_mode": {
    "name": "ipython",
    "version": 3
   },
   "file_extension": ".py",
   "mimetype": "text/x-python",
   "name": "python",
   "nbconvert_exporter": "python",
   "pygments_lexer": "ipython3",
   "version": "3.8.8"
  }
 },
 "nbformat": 4,
 "nbformat_minor": 5
}
