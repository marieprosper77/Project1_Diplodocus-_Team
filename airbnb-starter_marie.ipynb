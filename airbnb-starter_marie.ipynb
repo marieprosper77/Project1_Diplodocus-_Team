{
 "cells": [
  {
   "cell_type": "code",
   "execution_count": 1,
   "metadata": {},
   "outputs": [],
   "source": [
    "#%matplotlib notebook"
   ]
  },
  {
   "cell_type": "code",
   "execution_count": 2,
   "metadata": {},
   "outputs": [
    {
     "ename": "ModuleNotFoundError",
     "evalue": "No module named 'config'",
     "output_type": "error",
     "traceback": [
      "\u001b[1;31m---------------------------------------------------------------------------\u001b[0m",
      "\u001b[1;31mModuleNotFoundError\u001b[0m                       Traceback (most recent call last)",
      "\u001b[1;32m<ipython-input-2-1c92cf3ed497>\u001b[0m in \u001b[0;36m<module>\u001b[1;34m\u001b[0m\n\u001b[0;32m     12\u001b[0m \u001b[1;31m#import matplotlib.pyplot as plt\u001b[0m\u001b[1;33m\u001b[0m\u001b[1;33m\u001b[0m\u001b[1;33m\u001b[0m\u001b[0m\n\u001b[0;32m     13\u001b[0m \u001b[1;32mfrom\u001b[0m \u001b[0mscipy\u001b[0m \u001b[1;32mimport\u001b[0m \u001b[0mstats\u001b[0m\u001b[1;33m\u001b[0m\u001b[1;33m\u001b[0m\u001b[0m\n\u001b[1;32m---> 14\u001b[1;33m \u001b[1;32mfrom\u001b[0m \u001b[0mconfig\u001b[0m \u001b[1;32mimport\u001b[0m \u001b[0mapi_key\u001b[0m\u001b[1;33m\u001b[0m\u001b[1;33m\u001b[0m\u001b[0m\n\u001b[0m\u001b[0;32m     15\u001b[0m \u001b[1;32mimport\u001b[0m \u001b[0mpandas\u001b[0m \u001b[1;32mas\u001b[0m \u001b[0mpd\u001b[0m\u001b[1;33m\u001b[0m\u001b[1;33m\u001b[0m\u001b[0m\n\u001b[0;32m     16\u001b[0m \u001b[1;32mimport\u001b[0m \u001b[0mseaborn\u001b[0m \u001b[1;32mas\u001b[0m \u001b[0msns\u001b[0m\u001b[1;33m\u001b[0m\u001b[1;33m\u001b[0m\u001b[0m\n",
      "\u001b[1;31mModuleNotFoundError\u001b[0m: No module named 'config'"
     ]
    }
   ],
   "source": [
    "\n",
    "import matplotlib\n",
    "import matplotlib.pyplot as plt\n",
    "from scipy.spatial import ConvexHull\n",
    "import warnings; warnings.simplefilter('ignore')\n",
    "import gmaps\n",
    "import json\n",
    "import requests\n",
    "import pandas as pd\n",
    "import numpy as np\n",
    "import inspect\n",
    "#from citipy import citipy\n",
    "#import matplotlib.pyplot as plt\n",
    "from scipy import stats\n",
    "from config import api_key\n",
    "import pandas as pd\n",
    "import seaborn as sns\n",
    "\n",
    "import scipy.stats as st"
   ]
  },
  {
   "cell_type": "code",
   "execution_count": null,
   "metadata": {},
   "outputs": [],
   "source": [
    "\n",
    "import os\n",
    "for dirname, _, filenames in os.walk('/kaggle/input'):\n",
    "    for filename in filenames:\n",
    "        print(os.path.join(dirname, filename))"
   ]
  },
  {
   "cell_type": "code",
   "execution_count": null,
   "metadata": {},
   "outputs": [],
   "source": [
    "abnb_data = pd.read_csv(\"Resources/airbnb_data.csv\")"
   ]
  },
  {
   "cell_type": "code",
   "execution_count": null,
   "metadata": {},
   "outputs": [],
   "source": [
    "Cities = []\n",
    "for city in abnb_df['City']:\n",
    "    if city not in Cities:\n",
    "        Cities.append(city)"
   ]
  },
  {
   "cell_type": "code",
   "execution_count": null,
   "metadata": {},
   "outputs": [],
   "source": [
    "cities = [city.lower() for city in Cities]"
   ]
  },
  {
   "cell_type": "code",
   "execution_count": null,
   "metadata": {},
   "outputs": [],
   "source": [
    "states = ['NC', 'TX', 'MA', 'FL', 'MA', 'IL', 'NV', 'OH', 'CO', 'NJ', 'CA', 'TN', 'LA', 'NY', 'CA', 'CA', 'OR', 'OR', 'CA', 'CA', 'CA', 'CA', 'CA', 'WA', 'DC']"
   ]
  },
  {
   "cell_type": "code",
   "execution_count": null,
   "metadata": {},
   "outputs": [],
   "source": [
    "loop_df = pd.DataFrame({\n",
    "    'city': cities,\n",
    "    'City': Cities,\n",
    "    'State': states\n",
    "})\n",
    "\n",
    "loop_df['Population'] = ''"
   ]
  },
  {
   "cell_type": "code",
   "execution_count": null,
   "metadata": {},
   "outputs": [],
   "source": [
    "for index, row in loop_df.iterrows():\n",
    "    city = row[\"city\"]\n",
    "    City = row[\"City\"]\n",
    "    state = row[\"State\"]\n",
    "    url = f'http://public.opendatasoft.com/api/records/1.0/search/?dataset=cities-and-towns-of-the-united-states%40public&q={city}&facet=name&facet=state&refine.name={City}&refine.state={state}'\n",
    "    response = requests.get(url).json()\n",
    "    print(f\"Searching population record for {city}\")\n",
    "    \n",
    "    try:\n",
    "        loop_df.loc[index, \"Population\"] = response['records'][0]['fields']['pop_2010']\n",
    "    \n",
    "        print(f\"{city}'s population: {response['records'][0]['fields']['pop_2010']}\")\n",
    "    \n",
    "        print('________________________________________________')\n",
    "    \n",
    "    except (KeyError, IndexError):\n",
    "        print(f\"Population for {city} not found... Continue scanning.\")\n",
    "        \n",
    "        print('________________________________________________')"
   ]
  },
  {
   "cell_type": "code",
   "execution_count": null,
   "metadata": {},
   "outputs": [],
   "source": [
    "graphs_draft_df = abnb_df.groupby('City').mean().reset_index()\n",
    "graphs_draft_df['Population'] = loop_df['Population']\n",
    "graphs_draft_df['State'] = loop_df['State']\n",
    "graphs_df = graphs_draft_df[['City', 'State', 'Population', 'Latitude', 'Longitude', 'Price', 'Minimum Nights', 'Number of Reviews', 'Reviews per Month', 'Availability (days per year)']]\n",
    "graphs_df['Population'] = pd.to_numeric(graphs_df['Population'], errors='coerce')"
   ]
  },
  {
   "cell_type": "markdown",
   "metadata": {},
   "source": [
    "## Create bar graph to show population by city"
   ]
  },
  {
   "cell_type": "code",
   "execution_count": null,
   "metadata": {},
   "outputs": [],
   "source": [
    "sorted_by_pop = graphs_df.sort_values(by='Population', ascending=False)\n",
    "\n",
    "pop_city = sorted_by_pop[['City', 'Population']]\n",
    "pop_city = pop_city.set_index('City')\n",
    "\n",
    "pop_city.plot(kind=\"bar\", figsize=(10,7))\n",
    "\n",
    "# Set a title for the chart\n",
    "plt.title('Population by City')\n",
    "plt.xlabel(\"Cities\")\n",
    "plt.ylabel(\"Population (in millions)\")\n",
    "plt.show()\n",
    "plt.tight_layout()"
   ]
  },
  {
   "cell_type": "code",
   "execution_count": null,
   "metadata": {},
   "outputs": [],
   "source": [
    "# Set x axis and tick locations\n",
    "x_axis = np.arange(len(sorted_by_pop))\n",
    "tick_locations = [value for value in x_axis]\n",
    "\n",
    "# Create a list indicating where to write x labels and set figure size to adjust for space\n",
    "plt.figure(figsize=(25,3))\n",
    "plt.bar(x_axis, sorted_by_pop['Population'], color='r', alpha=0.5, align=\"center\")\n",
    "plt.xticks(tick_locations, sorted_by_pop['City'], rotation=\"vertical\")\n",
    "\n",
    "# Set x and y limits\n",
    "plt.xlim(-0.75, len(x_axis))\n",
    "plt.ylim(0, max(sorted_by_pop['Population'])+10)\n",
    "\n",
    "# Set a Title and labels\n",
    "plt.title('Population by City')\n",
    "plt.xlabel(\"Cities\")\n",
    "plt.ylabel(\"Population (in millions)\")\n",
    "\n",
    "# Save our graph and show the grap\n",
    "plt.tight_layout()\n",
    "plt.savefig('Resources/pop_by_city.png')\n",
    "plt.show()"
   ]
  },
  {
   "cell_type": "code",
   "execution_count": null,
   "metadata": {},
   "outputs": [],
   "source": [
    "# Create Fig and gridspec\n",
    "fig = plt.figure(figsize=(16, 10), dpi= 80)\n",
    "grid = plt.GridSpec(4, 4, hspace=0.5, wspace=0.2)\n",
    "\n",
    "# Define the axes\n",
    "ax_main = fig.add_subplot(grid[:-1, :-1])\n",
    "ax_right = fig.add_subplot(grid[:-1, -1], xticklabels=[], yticklabels=[])\n",
    "ax_bottom = fig.add_subplot(grid[-1, 0:-1], xticklabels=[], yticklabels=[])\n",
    "\n",
    "# Scatterplot on main ax\n",
    "graphs_df('Reviews per Month', 'Price',  c=graphs_df.State.astype('City').cat.codes, alpha=.9, data=graphs_df, cmap=\"Set1\", edgecolors='black', linewidths=.5)\n",
    "\n",
    "# Add a graph in each part\n",
    "sns.boxplot(graphs_df.hwy, ax=ax_right, orient=\"v\")\n",
    "sns.boxplot(graphs_df.displ, ax=ax_bottom, orient=\"h\")\n",
    "\n",
    "# Decorations ------------------\n",
    "# Remove x axis name for the boxplot\n",
    "ax_bottom.set(xlabel='')\n",
    "ax_right.set(ylabel='')\n",
    "\n",
    "# Main Title, Xlabel and YLabel\n",
    "ax_main.set(title='Scatterplot with Histograms \\n displ vs hwy', xlabel='displ', ylabel='hwy')\n",
    "\n",
    "# Set font size of different components\n",
    "ax_main.title.set_fontsize(20)\n",
    "for item in ([ax_main.xaxis.label, ax_main.yaxis.label] + ax_main.get_xticklabels() + ax_main.get_yticklabels()):\n",
    "    item.set_fontsize(14)\n",
    "\n",
    "plt.show()"
   ]
  },
  {
   "cell_type": "code",
   "execution_count": null,
   "metadata": {},
   "outputs": [],
   "source": []
  }
 ],
 "metadata": {
  "kernelspec": {
   "display_name": "Python 3",
   "language": "python",
   "name": "python3"
  },
  "language_info": {
   "codemirror_mode": {
    "name": "ipython",
    "version": 3
   },
   "file_extension": ".py",
   "mimetype": "text/x-python",
   "name": "python",
   "nbconvert_exporter": "python",
   "pygments_lexer": "ipython3",
   "version": "3.8.8"
  }
 },
 "nbformat": 4,
 "nbformat_minor": 4
}
